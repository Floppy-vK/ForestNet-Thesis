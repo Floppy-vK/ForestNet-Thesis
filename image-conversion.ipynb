{
 "cells": [
  {
   "cell_type": "markdown",
   "metadata": {},
   "source": [
    "## Notebook Purposes\n",
    "This notebook is used to convert the existing dataset images to numpy arrays, pairing them up with other images to increase input complexity."
   ]
  },
  {
   "cell_type": "code",
   "execution_count": 24,
   "metadata": {},
   "outputs": [],
   "source": [
    "# Create new CSV files which only include examples that contain cloud filtered images along with composite images\n",
    "\n",
    "import pandas as pd\n",
    "import glob\n",
    "\n",
    "#read through all files in training, val, and test sets\n",
    "train = pd.read_csv('../input/forestnet/ForestNetDataset/train.csv')\n",
    "val = pd.read_csv('../input/forestnet/ForestNetDataset/val.csv')\n",
    "test = pd.read_csv('../input/forestnet/ForestNetDataset/test.csv')\n",
    "\n",
    "train_dict = {'label':[], 'merged_label': [], 'latitude': [], 'longitude': [], 'year': [], 'example_path': []}\n",
    "val_dict = {'label':[], 'merged_label': [], 'latitude': [], 'longitude': [], 'year': [], 'example_path': []}\n",
    "test_dict = {'label':[], 'merged_label': [], 'latitude': [], 'longitude': [], 'year': [], 'example_path': []}\n",
    "\n",
    "\n",
    "#check to see if cloud filtered image is available\n",
    "for example_set, set_dict, set_path in zip([train, val, test], [train_dict, val_dict, test_dict], ['train_new.csv', 'val_new.csv', 'test_new.csv']):   \n",
    "    for i in range(example_set.shape[0]):\n",
    "            img_path = f'../input/forestnet/ForestNetDataset/{example_set[\"example_path\"][i]}/images/visible'\n",
    "            list_of_files = glob.glob(img_path + '/*.png')\n",
    "            if len(list_of_files) > 1:\n",
    "                  for col in ['label', 'merged_label', 'latitude', 'longitude', 'year', 'example_path']:\n",
    "                    set_dict[col].append(example_set[col][i])\n",
    "            else:\n",
    "              continue\n",
    "    set_df = pd.DataFrame(set_dict)\n",
    "    set_df.to_csv('../input/forestnet/ForestNetDataset/' + set_path, index=False)\n",
    "\n",
    "            \n"
   ]
  },
  {
   "cell_type": "code",
   "execution_count": 31,
   "metadata": {},
   "outputs": [],
   "source": [
    "# SOLUTION TO ONLY INCLUDE EXAMPLES WITH COMPOSITE AND CLOUD FILTERED IMAGES\n",
    "from PIL import Image\n",
    "from numpy import asarray, concatenate, save\n",
    "import pandas as pd\n",
    "import glob\n",
    "\n",
    "#path to set csv files\n",
    "train = pd.read_csv('../input/forestnet/ForestNetDataset/train_new.csv')\n",
    "val = pd.read_csv('../input/forestnet/ForestNetDataset/val_new.csv')\n",
    "test = pd.read_csv('../input/forestnet/ForestNetDataset/test_new.csv')\n",
    "\n",
    "# path_to_images = \"../input/forestnet/ForestNetDataset/\"f'{x[1]}'\"/images/visible/composite.png\"\n",
    "path_to_images = \"../input/forestnet/ForestNetDataset/examples/0.353895870891265_102.2666626652374/images\"\n",
    "additional_path1 = \"/visible\"\n",
    "\n",
    "img_path = path_to_images + additional_path1\n",
    "\n",
    "list_of_files = glob.glob(img_path + \"/*.png\")\n",
    "\n",
    "if len(list_of_files) > 1:\n",
    "    #loads example's composite image\n",
    "    composite_img = Image.open(list_of_files[-1])\n",
    "    #loads most recent cloud filtered image\n",
    "    cloudf_img = Image.open(list_of_files[-2])\n",
    "    #convert to np-array\n",
    "    np_composite_img = asarray(composite_img)\n",
    "    np_cloudf_img = asarray(cloudf_img)\n",
    "    # COULD ALSO USE DIFFERENT AXIS TO GET NON-SQUARE IMAGE, I DON'T THINK THAT'S A GOOD IDEA\n",
    "    np_new = concatenate((np_composite_img, np_cloudf_img), 2)\n",
    "    save(img_path + \"/concatenated_images.npy\", np_new)\n",
    "    \n",
    "\n",
    "\n",
    "    "
   ]
  }
 ],
 "metadata": {
  "kernelspec": {
   "display_name": "base",
   "language": "python",
   "name": "python3"
  },
  "language_info": {
   "codemirror_mode": {
    "name": "ipython",
    "version": 3
   },
   "file_extension": ".py",
   "mimetype": "text/x-python",
   "name": "python",
   "nbconvert_exporter": "python",
   "pygments_lexer": "ipython3",
   "version": "3.9.18"
  }
 },
 "nbformat": 4,
 "nbformat_minor": 2
}
