{
 "cells": [
  {
   "cell_type": "markdown",
   "metadata": {},
   "source": [
    "## Notebook Purposes\n",
    "This notebook is used to convert the existing dataset images to numpy arrays, pairing them up with other images to increase input complexity."
   ]
  },
  {
   "cell_type": "code",
   "execution_count": 31,
   "metadata": {},
   "outputs": [],
   "source": [
    "# SOLUTION TO ONLY INCLUDE EXAMPLES WITH COMPOSITE AND CLOUD FILTERED IMAGES\n",
    "import glob\n",
    "from PIL import Image\n",
    "from numpy import asarray, concatenate, save\n",
    "\n",
    "# path_to_images = \"../input/forestnet/ForestNetDataset/\"f'{x[1]}'\"/images/visible/composite.png\"\n",
    "path_to_images = \"../input/forestnet/ForestNetDataset/examples/0.353895870891265_102.2666626652374/images\"\n",
    "additional_path1 = \"/visible\"\n",
    "\n",
    "img_path = path_to_images + additional_path1\n",
    "\n",
    "list_of_files = glob.glob(img_path + \"/*.png\")\n",
    "\n",
    "if len(list_of_files) > 1:\n",
    "    #loads example's composite image\n",
    "    composite_img = Image.open(list_of_files[-1])\n",
    "    #loads most recent cloud filtered image\n",
    "    cloudf_img = Image.open(list_of_files[-2])\n",
    "    #convert to np-array\n",
    "    np_composite_img = asarray(composite_img)\n",
    "    np_cloudf_img = asarray(cloudf_img)\n",
    "    # COULD ALSO USE DIFFERENT AXIS TO GET NON-SQUARE IMAGE, I DON'T THINK THAT'S A GOOD IDEA\n",
    "    np_new = concatenate((np_composite_img, np_cloudf_img), 2)\n",
    "    save(img_path + \"/concatenated_images.npy\", np_new)\n",
    "    \n",
    "\n",
    "\n",
    "    "
   ]
  },
  {
   "cell_type": "code",
   "execution_count": 44,
   "metadata": {},
   "outputs": [],
   "source": [
    "import pandas as pd\n",
    "\n",
    "#read through all files in training, val, and test sets\n",
    "train = pd.read_csv('../input/forestnet/ForestNetDataset/train.csv')\n",
    "val = pd.read_csv('../input/forestnet/ForestNetDataset/val.csv')\n",
    "test = pd.read_csv('../input/forestnet/ForestNetDataset/test.csv')\n",
    "\n",
    "doubles = 0\n",
    "singles = 0\n",
    "\n",
    "#check to see if cloud filtered image is available\n",
    "for example_set in [train, val, test]:   \n",
    "    for i in range(example_set.shape[0]):\n",
    "            img_path = f\"../input/forestnet/ForestNetDataset/{example_set['example_path'][i]}/images/visible\"\n",
    "            list_of_files = glob.glob(img_path + \"/*.png\")\n",
    "            if len(list_of_files) > 1:\n",
    "                  ##WRITE TO NEW CSV TO INCLUDE THIS EXAMPLE\n",
    "            \n"
   ]
  },
  {
   "cell_type": "code",
   "execution_count": 45,
   "metadata": {},
   "outputs": [
    {
     "name": "stdout",
     "output_type": "stream",
     "text": [
      "1302\n",
      "314\n"
     ]
    }
   ],
   "source": []
  }
 ],
 "metadata": {
  "kernelspec": {
   "display_name": "base",
   "language": "python",
   "name": "python3"
  },
  "language_info": {
   "codemirror_mode": {
    "name": "ipython",
    "version": 3
   },
   "file_extension": ".py",
   "mimetype": "text/x-python",
   "name": "python",
   "nbconvert_exporter": "python",
   "pygments_lexer": "ipython3",
   "version": "3.9.18"
  }
 },
 "nbformat": 4,
 "nbformat_minor": 2
}
